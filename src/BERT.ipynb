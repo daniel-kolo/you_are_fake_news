{
 "cells": [
  {
   "cell_type": "code",
   "execution_count": 2,
   "metadata": {
    "ExecuteTime": {
     "end_time": "2019-12-13T20:24:53.194629Z",
     "start_time": "2019-12-13T20:24:53.188656Z"
    }
   },
   "outputs": [],
   "source": [
    "import pandas as pd \n",
    "import numpy as np \n",
    "import torch.nn as nn\n",
    "from pytorch_pretrained_bert import BertTokenizer, BertModel\n",
    "import torch\n",
    "from torchnlp.datasets import imdb_dataset\n",
    "from keras.preprocessing.sequence import pad_sequences\n",
    "from sklearn.metrics import classification_report"
   ]
  },
  {
   "cell_type": "code",
   "execution_count": 3,
   "metadata": {
    "ExecuteTime": {
     "end_time": "2019-12-13T20:25:06.685485Z",
     "start_time": "2019-12-13T20:25:02.593807Z"
    }
   },
   "outputs": [],
   "source": [
    "pd.set_option('display.max_columns', None)\n",
    "train_data, test_data = imdb_dataset(train=True, test=True)"
   ]
  },
  {
   "cell_type": "code",
   "execution_count": 5,
   "metadata": {
    "ExecuteTime": {
     "end_time": "2019-12-13T20:45:01.350312Z",
     "start_time": "2019-12-13T20:45:00.511231Z"
    }
   },
   "outputs": [
    {
     "name": "stdout",
     "output_type": "stream",
     "text": [
      "12999\n"
     ]
    }
   ],
   "source": [
    "df = pd.read_csv(\"fake.csv\")\n",
    "df = df[['text', 'type']]\n",
    "print(len(df))"
   ]
  },
  {
   "cell_type": "code",
   "execution_count": 6,
   "metadata": {
    "ExecuteTime": {
     "end_time": "2019-12-13T20:49:04.073327Z",
     "start_time": "2019-12-13T20:49:04.044246Z"
    }
   },
   "outputs": [
    {
     "name": "stdout",
     "output_type": "stream",
     "text": [
      "                                                text  type\n",
      "0  Print They should pay all the back all the mon...  bias\n",
      "1  Why Did Attorney General Loretta Lynch Plead T...  bias\n",
      "2  Red State : \\nFox News Sunday reported this mo...  bias\n",
      "3  Email Kayla Mueller was a prisoner and torture...  bias\n",
      "4  Email HEALTHCARE REFORM TO MAKE AMERICA GREAT ...  bias\n"
     ]
    }
   ],
   "source": [
    "print(df.head())"
   ]
  },
  {
   "cell_type": "code",
   "execution_count": 7,
   "metadata": {
    "ExecuteTime": {
     "end_time": "2019-12-13T20:49:20.831852Z",
     "start_time": "2019-12-13T20:49:20.828236Z"
    }
   },
   "outputs": [],
   "source": [
    "from collections import Counter"
   ]
  },
  {
   "cell_type": "code",
   "execution_count": 8,
   "metadata": {
    "ExecuteTime": {
     "end_time": "2019-12-13T20:50:44.824134Z",
     "start_time": "2019-12-13T20:50:44.817893Z"
    }
   },
   "outputs": [
    {
     "name": "stdout",
     "output_type": "stream",
     "text": [
      "Counter({'bs': 11492, 'bias': 443, 'conspiracy': 430, 'hate': 246, 'satire': 146, 'state': 121, 'junksci': 102, 'fake': 19})\n"
     ]
    }
   ],
   "source": [
    "print(Counter(df['type'].values))"
   ]
  },
  {
   "cell_type": "code",
   "execution_count": 11,
   "metadata": {
    "ExecuteTime": {
     "end_time": "2019-12-13T20:55:25.990537Z",
     "start_time": "2019-12-13T20:55:25.980469Z"
    }
   },
   "outputs": [
    {
     "name": "stdout",
     "output_type": "stream",
     "text": [
      "Counter({'satire': 146, 'fake': 19})\n"
     ]
    }
   ],
   "source": [
    "df = df[df['type'].isin(['fake', 'satire'])]\n",
    "print(Counter(df['type'].values))\n",
    "df.dropna(inplace = True)"
   ]
  },
  {
   "cell_type": "code",
   "execution_count": 12,
   "metadata": {
    "ExecuteTime": {
     "end_time": "2019-12-13T21:46:46.613183Z",
     "start_time": "2019-12-13T21:46:46.590703Z"
    }
   },
   "outputs": [],
   "source": [
    "df_fake = df[df['type'] == 'fake'] \n",
    "df_statire = df[df['type'] == 'satire'] \n",
    "df_statire = df_statire.sample(n=len(df_fake))\n",
    "df = df_statire.append(df_fake)\n",
    "df = df.sample(frac=1, random_state = 24).reset_index(drop=True)"
   ]
  },
  {
   "cell_type": "code",
   "execution_count": 13,
   "metadata": {
    "ExecuteTime": {
     "end_time": "2019-12-13T21:46:57.897448Z",
     "start_time": "2019-12-13T21:46:57.892257Z"
    }
   },
   "outputs": [
    {
     "name": "stdout",
     "output_type": "stream",
     "text": [
      "Counter({'fake': 19, 'satire': 19})\n"
     ]
    }
   ],
   "source": [
    "print(Counter(df['type'].values))\n"
   ]
  },
  {
   "cell_type": "code",
   "execution_count": 23,
   "metadata": {
    "ExecuteTime": {
     "end_time": "2019-12-13T21:54:23.994941Z",
     "start_time": "2019-12-13T21:54:23.990682Z"
    }
   },
   "outputs": [],
   "source": [
    "train_data = df.head(19)\n",
    "test_data = df.tail(19)"
   ]
  },
  {
   "cell_type": "code",
   "execution_count": 26,
   "metadata": {
    "ExecuteTime": {
     "end_time": "2019-12-13T21:54:49.499354Z",
     "start_time": "2019-12-13T21:54:49.495185Z"
    }
   },
   "outputs": [],
   "source": [
    "train_data = [{'text': record[0], 'type': record[1]} for record in train_data.values]"
   ]
  },
  {
   "cell_type": "code",
   "execution_count": 27,
   "metadata": {
    "ExecuteTime": {
     "end_time": "2019-12-13T21:55:12.231475Z",
     "start_time": "2019-12-13T21:55:12.226864Z"
    }
   },
   "outputs": [],
   "source": [
    "test_data = [{'text': record[0], 'type': record[1]} for record in test_data.values]"
   ]
  },
  {
   "cell_type": "code",
   "execution_count": 28,
   "metadata": {
    "ExecuteTime": {
     "end_time": "2019-12-13T21:56:20.072831Z",
     "start_time": "2019-12-13T21:56:20.066771Z"
    }
   },
   "outputs": [],
   "source": [
    "train_texts, train_labels = list(zip(*map(lambda d: (d['text'], d['type']), train_data)))\n",
    "test_texts, test_labels = list(zip(*map(lambda d: (d['text'], d['type']), test_data)))"
   ]
  },
  {
   "cell_type": "code",
   "execution_count": 38,
   "metadata": {
    "ExecuteTime": {
     "end_time": "2019-12-13T22:04:26.216058Z",
     "start_time": "2019-12-13T22:04:24.237235Z"
    }
   },
   "outputs": [
    {
     "name": "stderr",
     "output_type": "stream",
     "text": [
      "100%|██████████| 231508/231508 [00:00<00:00, 693137.99B/s]\n"
     ]
    }
   ],
   "source": [
    "tokenizer = BertTokenizer.from_pretrained('bert-base-uncased', do_lower_case=True)\n",
    "\n",
    "train_tokens = list(map(lambda t: ['[CLS]'] + tokenizer.tokenize(t)[:511], train_texts))\n",
    "test_tokens = list(map(lambda t: ['[CLS]'] + tokenizer.tokenize(t)[:511], test_texts))\n",
    "\n",
    "train_tokens_ids = list(map(tokenizer.convert_tokens_to_ids, train_tokens))\n",
    "test_tokens_ids = list(map(tokenizer.convert_tokens_to_ids, test_tokens))\n",
    "\n",
    "train_tokens_ids = pad_sequences(train_tokens_ids, maxlen=512, truncating=\"post\", padding=\"post\", dtype=\"int\")\n",
    "test_tokens_ids = pad_sequences(test_tokens_ids, maxlen=512, truncating=\"post\", padding=\"post\", dtype=\"int\")"
   ]
  },
  {
   "cell_type": "code",
   "execution_count": 39,
   "metadata": {
    "ExecuteTime": {
     "end_time": "2019-12-14T10:25:20.039322Z",
     "start_time": "2019-12-14T10:25:20.034436Z"
    }
   },
   "outputs": [],
   "source": [
    "train_y = np.array(train_labels) == 'fake'\n",
    "test_y = np.array(test_labels) == 'fake'"
   ]
  },
  {
   "cell_type": "code",
   "execution_count": 43,
   "metadata": {
    "ExecuteTime": {
     "end_time": "2019-12-14T10:26:47.670609Z",
     "start_time": "2019-12-14T10:26:47.660716Z"
    }
   },
   "outputs": [],
   "source": [
    "class BertBinaryClassifier(nn.Module):\n",
    "    def __init__(self, dropout=0.1):\n",
    "        super(BertBinaryClassifier, self).__init__()\n",
    "        self.bert = BertModel.from_pretrained('bert-base-uncased')\n",
    "        self.dropout = nn.Dropout(dropout)\n",
    "        self.linear = nn.Linear(768, 1)\n",
    "        self.sigmoid = nn.Sigmoid()\n",
    "    \n",
    "    def forward(self, tokens, masks=None):\n",
    "        _, pooled_output = self.bert(tokens, attention_mask=masks, output_all_encoded_layers=False)\n",
    "        dropout_output = self.dropout(pooled_output)\n",
    "        linear_output = self.linear(dropout_output)\n",
    "        proba = self.sigmoid(linear_output)\n",
    "        return proba"
   ]
  },
  {
   "cell_type": "code",
   "execution_count": 47,
   "metadata": {
    "ExecuteTime": {
     "end_time": "2019-12-14T10:31:20.199860Z",
     "start_time": "2019-12-14T10:31:20.173053Z"
    }
   },
   "outputs": [],
   "source": [
    "train_masks = [[float(i > 0) for i in ii] for ii in train_tokens_ids]\n",
    "test_masks = [[float(i > 0) for i in ii] for ii in test_tokens_ids]\n",
    "train_masks_tensor = torch.tensor(train_masks)\n",
    "test_masks_tensor = torch.tensor(test_masks)"
   ]
  },
  {
   "cell_type": "code",
   "execution_count": 65,
   "metadata": {
    "ExecuteTime": {
     "end_time": "2019-12-14T10:37:11.673125Z",
     "start_time": "2019-12-14T10:37:11.665970Z"
    }
   },
   "outputs": [],
   "source": [
    "train_tokens_tensor = torch.tensor(train_tokens_ids)\n",
    "train_y_tensor = torch.tensor(train_y.reshape(-1, 1)).float()\n",
    "test_tokens_tensor = torch.tensor(test_tokens_ids)\n",
    "test_y_tensor = torch.tensor(test_y.reshape(-1, 1)).float()"
   ]
  },
  {
   "cell_type": "code",
   "execution_count": 69,
   "metadata": {
    "ExecuteTime": {
     "end_time": "2019-12-14T12:33:54.747164Z",
     "start_time": "2019-12-14T12:33:54.743626Z"
    }
   },
   "outputs": [],
   "source": [
    "BATCH_SIZE = 1\n",
    "EPOCHS = 1"
   ]
  },
  {
   "cell_type": "code",
   "execution_count": 70,
   "metadata": {
    "ExecuteTime": {
     "end_time": "2019-12-14T12:33:55.584677Z",
     "start_time": "2019-12-14T12:33:55.579299Z"
    }
   },
   "outputs": [],
   "source": [
    "train_dataset =  torch.utils.data.TensorDataset(train_tokens_tensor, train_masks_tensor, train_y_tensor)\n",
    "train_sampler =  torch.utils.data.RandomSampler(train_dataset)\n",
    "train_dataloader =  torch.utils.data.DataLoader(train_dataset, sampler=train_sampler, batch_size=BATCH_SIZE)"
   ]
  },
  {
   "cell_type": "code",
   "execution_count": 71,
   "metadata": {
    "ExecuteTime": {
     "end_time": "2019-12-14T12:33:56.531234Z",
     "start_time": "2019-12-14T12:33:56.525854Z"
    }
   },
   "outputs": [],
   "source": [
    "test_dataset =  torch.utils.data.TensorDataset(test_tokens_tensor, test_masks_tensor, test_y_tensor)\n",
    "test_sampler =  torch.utils.data.SequentialSampler(test_dataset)\n",
    "test_dataloader =  torch.utils.data.DataLoader(test_dataset, sampler=test_sampler, batch_size=BATCH_SIZE)"
   ]
  },
  {
   "cell_type": "code",
   "execution_count": null,
   "metadata": {},
   "outputs": [],
   "source": [
    "bert_clf = BertBinaryClassifier()\n",
    "optimizer = torch.optim.Adam(bert_clf.parameters(), lr=3e-6)"
   ]
  },
  {
   "cell_type": "code",
   "execution_count": 75,
   "metadata": {
    "ExecuteTime": {
     "end_time": "2019-12-14T13:43:32.815661Z",
     "start_time": "2019-12-14T13:42:26.456392Z"
    }
   },
   "outputs": [
    {
     "name": "stdout",
     "output_type": "stream",
     "text": [
      "Epoch:  1\n",
      "0/19.0 loss: 0.616338849067688 \n",
      "Epoch:  1\n",
      "1/19.0 loss: 0.6330755054950714 \n",
      "Epoch:  1\n",
      "2/19.0 loss: 0.6887734731038412 \n",
      "Epoch:  1\n",
      "3/19.0 loss: 0.7112611830234528 \n",
      "Epoch:  1\n",
      "4/19.0 loss: 0.6862058043479919 \n",
      "Epoch:  1\n",
      "5/19.0 loss: 0.6836692988872528 \n",
      "Epoch:  1\n",
      "6/19.0 loss: 0.6752581681524005 \n",
      "Epoch:  1\n",
      "7/19.0 loss: 0.6885458081960678 \n",
      "Epoch:  1\n",
      "8/19.0 loss: 0.672395924727122 \n",
      "Epoch:  1\n",
      "9/19.0 loss: 0.6611121892929077 \n",
      "Epoch:  1\n",
      "10/19.0 loss: 0.6537653370337053 \n",
      "Epoch:  1\n",
      "11/19.0 loss: 0.6511362840731939 \n",
      "Epoch:  1\n",
      "12/19.0 loss: 0.6506446783359234 \n",
      "Epoch:  1\n",
      "13/19.0 loss: 0.667632635150637 \n",
      "Epoch:  1\n",
      "14/19.0 loss: 0.6702739477157593 \n",
      "Epoch:  1\n",
      "15/19.0 loss: 0.6660628467798233 \n",
      "Epoch:  1\n",
      "16/19.0 loss: 0.6745617004001841 \n",
      "Epoch:  1\n",
      "17/19.0 loss: 0.6665226353539361 \n",
      "Epoch:  1\n",
      "18/19.0 loss: 0.6696704563341642 \n"
     ]
    }
   ],
   "source": [
    "for epoch_num in range(EPOCHS):\n",
    "    bert_clf.train()\n",
    "    train_loss = 0\n",
    "    for step_num, batch_data in enumerate(train_dataloader):\n",
    "        token_ids, masks, labels = tuple(t for t in batch_data)\n",
    "        probas = bert_clf(token_ids, masks)\n",
    "        loss_func = nn.BCELoss()\n",
    "        batch_loss = loss_func(probas, labels)\n",
    "        train_loss += batch_loss.item()\n",
    "        bert_clf.zero_grad()\n",
    "        batch_loss.backward()\n",
    "        optimizer.step()\n",
    "        print('Epoch: ', epoch_num + 1)\n",
    "        print(\"\\r\" + \"{0}/{1} loss: {2} \".format(step_num, len(train_data) / BATCH_SIZE, train_loss / (step_num + 1)))"
   ]
  },
  {
   "cell_type": "code",
   "execution_count": 74,
   "metadata": {
    "ExecuteTime": {
     "end_time": "2019-12-14T12:39:00.459162Z",
     "start_time": "2019-12-14T12:38:44.569904Z"
    }
   },
   "outputs": [
    {
     "name": "stdout",
     "output_type": "stream",
     "text": [
      "              precision    recall  f1-score   support\n",
      "\n",
      "       False       0.50      0.89      0.64         9\n",
      "        True       0.67      0.20      0.31        10\n",
      "\n",
      "    accuracy                           0.53        19\n",
      "   macro avg       0.58      0.54      0.47        19\n",
      "weighted avg       0.59      0.53      0.47        19\n",
      "\n"
     ]
    }
   ],
   "source": [
    "bert_clf.eval()\n",
    "bert_predicted = []\n",
    "all_logits = []\n",
    "with torch.no_grad():\n",
    "    for step_num, batch_data in enumerate(test_dataloader):\n",
    "        token_ids, masks, labels = tuple(t for t in batch_data)\n",
    "        logits = bert_clf(token_ids, masks)\n",
    "        loss_func = nn.BCELoss()\n",
    "        loss = loss_func(logits, labels)\n",
    "        numpy_logits = logits.cpu().detach().numpy()\n",
    "        \n",
    "        bert_predicted += list(numpy_logits[:, 0] > 0.5)\n",
    "        all_logits += list(numpy_logits[:, 0])\n",
    "        \n",
    "print(classification_report(test_y, bert_predicted))"
   ]
  }
 ],
 "metadata": {
  "kernelspec": {
   "display_name": "Python [conda env:deep_learning]",
   "language": "python",
   "name": "conda-env-deep_learning-py"
  },
  "language_info": {
   "codemirror_mode": {
    "name": "ipython",
    "version": 3
   },
   "file_extension": ".py",
   "mimetype": "text/x-python",
   "name": "python",
   "nbconvert_exporter": "python",
   "pygments_lexer": "ipython3",
   "version": "3.7.4"
  }
 },
 "nbformat": 4,
 "nbformat_minor": 4
}
