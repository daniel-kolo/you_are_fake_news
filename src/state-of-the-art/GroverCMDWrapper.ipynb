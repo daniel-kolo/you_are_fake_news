{
 "cells": [
  {
   "cell_type": "markdown",
   "metadata": {},
   "source": [
    "* this notebook uses https://github.com/rowanz/grover this repository\n",
    "* you should run this from the root"
   ]
  },
  {
   "cell_type": "code",
   "execution_count": 2,
   "metadata": {},
   "outputs": [
    {
     "name": "stdout",
     "output_type": "stream",
     "text": [
      "/home/work/deep_learning/grover/lm\n"
     ]
    }
   ],
   "source": [
    "%cd ./lm "
   ]
  },
  {
   "cell_type": "markdown",
   "metadata": {},
   "source": [
    "### Create input JSON"
   ]
  },
  {
   "cell_type": "code",
   "execution_count": 42,
   "metadata": {},
   "outputs": [
    {
     "name": "stdout",
     "output_type": "stream",
     "text": [
      "80\n"
     ]
    }
   ],
   "source": [
    "# multiply the size of the input file\n",
    "with open(\"../data/april2019_set_mini.jsonl\", \"r\") as f, open(\"../data/input.txt\", \"w+\") as out_f:\n",
    "    lines = [line.strip()+\"\\n\" for line in f]*10\n",
    "    print(len(lines))\n",
    "    out_f.writelines(lines)"
   ]
  },
  {
   "cell_type": "markdown",
   "metadata": {},
   "source": [
    "### Command line wrapper"
   ]
  },
  {
   "cell_type": "code",
   "execution_count": 43,
   "metadata": {},
   "outputs": [],
   "source": [
    "inp = \"../data/input.txt\"\n",
    "out = \"../data/april2019_set_mini_out.jsonl\"\n",
    "config = \"../lm/configs/base.json\"\n",
    "ckpt = \"../models/base/model.ckpt\""
   ]
  },
  {
   "cell_type": "code",
   "execution_count": 44,
   "metadata": {
    "scrolled": true
   },
   "outputs": [
    {
     "name": "stdout",
     "output_type": "stream",
     "text": [
      "\n",
      "~~\n",
      "batch size=1, max batch size=32, num chunks=1, batch size per chunk=1\n",
      "~~\n",
      "\n",
      "2019-12-20 14:44:26.322107: I tensorflow/core/platform/cpu_feature_guard.cc:141] Your CPU supports instructions that this TensorFlow binary was not compiled to use: SSE4.1 SSE4.2\n",
      "2019-12-20 14:44:26.350829: I tensorflow/core/platform/profile_utils/cpu_utils.cc:94] CPU Frequency: 2400065000 Hz\n",
      "2019-12-20 14:44:26.353719: I tensorflow/compiler/xla/service/service.cc:150] XLA service 0x55d3c19170a0 executing computations on platform Host. Devices:\n",
      "2019-12-20 14:44:26.353750: I tensorflow/compiler/xla/service/service.cc:158]   StreamExecutor device (0): <undefined>, <undefined>\n",
      "2019-12-20 14:44:26.967373: I tensorflow/stream_executor/cuda/cuda_gpu_executor.cc:998] successful NUMA node read from SysFS had negative value (-1), but there must be at least one NUMA node, so returning NUMA node zero\n",
      "2019-12-20 14:44:26.968152: I tensorflow/core/common_runtime/gpu/gpu_device.cc:1433] Found device 0 with properties: \n",
      "name: GeForce GTX 1070 major: 6 minor: 1 memoryClockRate(GHz): 1.683\n",
      "pciBusID: 0000:02:00.0\n",
      "totalMemory: 7.93GiB freeMemory: 7.83GiB\n",
      "2019-12-20 14:44:26.968184: I tensorflow/core/common_runtime/gpu/gpu_device.cc:1512] Adding visible gpu devices: 0\n",
      "2019-12-20 14:44:26.969196: I tensorflow/core/common_runtime/gpu/gpu_device.cc:984] Device interconnect StreamExecutor with strength 1 edge matrix:\n",
      "2019-12-20 14:44:26.969219: I tensorflow/core/common_runtime/gpu/gpu_device.cc:990]      0 \n",
      "2019-12-20 14:44:26.969232: I tensorflow/core/common_runtime/gpu/gpu_device.cc:1003] 0:   N \n",
      "2019-12-20 14:44:26.969507: I tensorflow/core/common_runtime/gpu/gpu_device.cc:1115] Created TensorFlow device (/job:localhost/replica:0/task:0/device:GPU:0 with 7622 MB memory) -> physical GPU (device: 0, name: GeForce GTX 1070, pci bus id: 0000:02:00.0, compute capability: 6.1)\n",
      "2019-12-20 14:44:26.972118: I tensorflow/compiler/xla/service/service.cc:150] XLA service 0x55d3c1879cf0 executing computations on platform CUDA. Devices:\n",
      "2019-12-20 14:44:26.972152: I tensorflow/compiler/xla/service/service.cc:158]   StreamExecutor device (0): GeForce GTX 1070, Compute Capability 6.1\n",
      "WARNING:tensorflow:From /home/miniconda3/envs/deep_learning/lib/python3.7/site-packages/tensorflow/python/framework/op_def_library.py:263: colocate_with (from tensorflow.python.framework.ops) is deprecated and will be removed in a future version.\n",
      "Instructions for updating:\n",
      "Colocations handled automatically by placer.\n",
      "WARNING:tensorflow:From ../lm/modeling.py:143: dense (from tensorflow.python.layers.core) is deprecated and will be removed in a future version.\n",
      "Instructions for updating:\n",
      "Use keras.layers.dense instead.\n",
      "WARNING:tensorflow:From /home/miniconda3/envs/deep_learning/lib/python3.7/site-packages/tensorflow/python/training/saver.py:1266: checkpoint_exists (from tensorflow.python.training.checkpoint_management) is deprecated and will be removed in a future version.\n",
      "Instructions for updating:\n",
      "Use standard file APIs to check for files with this prefix.\n",
      "  0%|                                                    | 0/80 [00:00<?, ?it/s]2019-12-20 14:44:34.886511: I tensorflow/stream_executor/dso_loader.cc:152] successfully opened CUDA library libcublas.so.9.2 locally\n",
      "Written 0/80 articles\n",
      "  1%|▌                                           | 1/80 [00:07<10:22,  7.88s/it]Written 1/80 articles\n",
      "  2%|█                                           | 2/80 [00:16<10:21,  7.97s/it]Written 2/80 articles\n",
      "  4%|█▋                                          | 3/80 [00:28<11:48,  9.20s/it]Written 3/80 articles\n",
      "  5%|██▏                                         | 4/80 [00:33<10:11,  8.04s/it]Written 4/80 articles\n",
      "  6%|██▊                                         | 5/80 [00:38<08:59,  7.19s/it]Written 5/80 articles\n",
      "  8%|███▎                                        | 6/80 [00:51<10:48,  8.76s/it]Written 6/80 articles\n",
      "  9%|███▊                                        | 7/80 [01:04<12:14, 10.06s/it]Written 7/80 articles\n",
      " 10%|████▍                                       | 8/80 [01:13<11:51,  9.88s/it]Written 8/80 articles\n",
      " 11%|████▉                                       | 9/80 [01:21<10:48,  9.14s/it]Written 9/80 articles\n",
      " 12%|█████▍                                     | 10/80 [01:32<11:24,  9.77s/it]Written 10/80 articles\n",
      " 14%|█████▉                                     | 11/80 [01:43<11:47, 10.25s/it]Written 11/80 articles\n",
      " 15%|██████▍                                    | 12/80 [01:52<11:13,  9.91s/it]Written 12/80 articles\n",
      " 16%|██████▉                                    | 13/80 [02:01<10:30,  9.41s/it]Written 13/80 articles\n",
      " 18%|███████▌                                   | 14/80 [02:14<11:41, 10.63s/it]Written 14/80 articles\n",
      " 19%|████████                                   | 15/80 [02:21<10:15,  9.46s/it]Written 15/80 articles\n",
      " 20%|████████▌                                  | 16/80 [02:29<09:33,  8.97s/it]Written 16/80 articles\n",
      " 21%|█████████▏                                 | 17/80 [02:35<08:29,  8.09s/it]Written 17/80 articles\n",
      " 22%|█████████▋                                 | 18/80 [02:44<08:50,  8.56s/it]Written 18/80 articles\n",
      " 24%|██████████▏                                | 19/80 [02:53<08:53,  8.75s/it]Written 19/80 articles\n",
      " 25%|██████████▊                                | 20/80 [03:06<09:57,  9.96s/it]Written 20/80 articles\n",
      " 26%|███████████▎                               | 21/80 [03:14<09:11,  9.35s/it]Written 21/80 articles\n",
      " 28%|███████████▊                               | 22/80 [03:28<10:19, 10.67s/it]Written 22/80 articles\n",
      " 29%|████████████▎                              | 23/80 [03:42<11:11, 11.78s/it]Written 23/80 articles\n",
      " 30%|████████████▉                              | 24/80 [03:54<10:56, 11.72s/it]Written 24/80 articles\n",
      " 31%|█████████████▍                             | 25/80 [04:05<10:36, 11.57s/it]Written 25/80 articles\n",
      " 32%|█████████████▉                             | 26/80 [04:15<09:58, 11.08s/it]Written 26/80 articles\n",
      " 34%|██████████████▌                            | 27/80 [04:30<10:45, 12.18s/it]Written 27/80 articles\n",
      " 35%|███████████████                            | 28/80 [04:35<08:39, 10.00s/it]Written 28/80 articles\n",
      " 36%|███████████████▌                           | 29/80 [04:47<08:58, 10.57s/it]Written 29/80 articles\n",
      " 38%|████████████████▏                          | 30/80 [04:56<08:38, 10.37s/it]Written 30/80 articles\n",
      " 39%|████████████████▋                          | 31/80 [05:07<08:31, 10.43s/it]Written 31/80 articles\n",
      " 40%|█████████████████▏                         | 32/80 [05:15<07:41,  9.62s/it]Written 32/80 articles\n",
      " 41%|█████████████████▋                         | 33/80 [05:19<06:22,  8.13s/it]Written 33/80 articles\n",
      " 42%|██████████████████▎                        | 34/80 [05:32<07:11,  9.39s/it]Written 34/80 articles\n",
      " 44%|██████████████████▊                        | 35/80 [05:46<08:13, 10.96s/it]Written 35/80 articles\n",
      " 45%|███████████████████▎                       | 36/80 [05:55<07:31, 10.26s/it]Written 36/80 articles\n",
      " 46%|███████████████████▉                       | 37/80 [06:08<07:52, 10.99s/it]Written 37/80 articles\n",
      " 48%|████████████████████▍                      | 38/80 [06:17<07:17, 10.42s/it]Written 38/80 articles\n",
      " 49%|████████████████████▉                      | 39/80 [06:26<06:53, 10.07s/it]Written 39/80 articles\n",
      " 50%|█████████████████████▌                     | 40/80 [06:34<06:20,  9.51s/it]Written 40/80 articles\n",
      " 51%|██████████████████████                     | 41/80 [06:38<05:04,  7.82s/it]Written 41/80 articles\n",
      " 52%|██████████████████████▌                    | 42/80 [06:50<05:43,  9.05s/it]Written 42/80 articles\n",
      " 54%|███████████████████████                    | 43/80 [06:56<05:01,  8.14s/it]Written 43/80 articles\n",
      " 55%|███████████████████████▋                   | 44/80 [07:07<05:23,  8.99s/it]Written 44/80 articles\n",
      " 56%|████████████████████████▏                  | 45/80 [07:13<04:46,  8.18s/it]Written 45/80 articles\n",
      " 57%|████████████████████████▋                  | 46/80 [07:26<05:18,  9.38s/it]Written 46/80 articles\n",
      " 59%|█████████████████████████▎                 | 47/80 [07:30<04:17,  7.81s/it]Written 47/80 articles\n",
      " 60%|█████████████████████████▊                 | 48/80 [07:40<04:32,  8.52s/it]Written 48/80 articles\n",
      " 61%|██████████████████████████▎                | 49/80 [07:49<04:30,  8.72s/it]Written 49/80 articles\n",
      " 62%|██████████████████████████▉                | 50/80 [07:58<04:20,  8.68s/it]Written 50/80 articles\n",
      " 64%|███████████████████████████▍               | 51/80 [08:09<04:38,  9.59s/it]Written 51/80 articles\n",
      " 65%|███████████████████████████▉               | 52/80 [08:17<04:09,  8.92s/it]Written 52/80 articles\n",
      " 66%|████████████████████████████▍              | 53/80 [08:22<03:32,  7.88s/it]Written 53/80 articles\n",
      " 68%|█████████████████████████████              | 54/80 [08:31<03:31,  8.14s/it]Written 54/80 articles\n",
      " 69%|█████████████████████████████▌             | 55/80 [08:41<03:38,  8.75s/it]Written 55/80 articles\n",
      " 70%|██████████████████████████████             | 56/80 [08:53<03:53,  9.73s/it]Written 56/80 articles\n",
      " 71%|██████████████████████████████▋            | 57/80 [08:59<03:19,  8.69s/it]Written 57/80 articles\n",
      " 72%|███████████████████████████████▏           | 58/80 [09:02<02:33,  7.00s/it]Written 58/80 articles\n",
      " 74%|███████████████████████████████▋           | 59/80 [09:07<02:11,  6.28s/it]Written 59/80 articles\n",
      " 75%|████████████████████████████████▎          | 60/80 [09:15<02:18,  6.93s/it]Written 60/80 articles\n",
      " 76%|████████████████████████████████▊          | 61/80 [09:20<01:58,  6.22s/it]Written 61/80 articles\n",
      " 78%|█████████████████████████████████▎         | 62/80 [09:30<02:14,  7.49s/it]Written 62/80 articles\n",
      " 79%|█████████████████████████████████▊         | 63/80 [09:44<02:36,  9.19s/it]Written 63/80 articles\n",
      " 80%|██████████████████████████████████▍        | 64/80 [09:49<02:10,  8.18s/it]Written 64/80 articles\n",
      " 81%|██████████████████████████████████▉        | 65/80 [09:58<02:02,  8.16s/it]Written 65/80 articles\n",
      " 82%|███████████████████████████████████▍       | 66/80 [10:08<02:05,  8.94s/it]Written 66/80 articles\n",
      " 84%|████████████████████████████████████       | 67/80 [10:21<02:10, 10.05s/it]Written 67/80 articles\n",
      " 85%|████████████████████████████████████▌      | 68/80 [10:24<01:36,  8.04s/it]Written 68/80 articles\n",
      " 86%|█████████████████████████████████████      | 69/80 [10:32<01:27,  7.95s/it]Written 69/80 articles\n",
      " 88%|█████████████████████████████████████▋     | 70/80 [10:37<01:11,  7.18s/it]Written 70/80 articles\n",
      " 89%|██████████████████████████████████████▏    | 71/80 [10:42<00:57,  6.44s/it]Written 71/80 articles\n",
      " 90%|██████████████████████████████████████▋    | 72/80 [10:52<01:00,  7.57s/it]Written 72/80 articles\n",
      " 91%|███████████████████████████████████████▏   | 73/80 [10:59<00:50,  7.27s/it]Written 73/80 articles\n",
      " 92%|███████████████████████████████████████▊   | 74/80 [11:11<00:52,  8.81s/it]Written 74/80 articles\n",
      " 94%|████████████████████████████████████████▎  | 75/80 [11:25<00:51, 10.23s/it]Written 75/80 articles\n",
      " 95%|████████████████████████████████████████▊  | 76/80 [11:30<00:34,  8.67s/it]Written 76/80 articles\n",
      " 96%|█████████████████████████████████████████▍ | 77/80 [11:42<00:28,  9.62s/it]Written 77/80 articles\n",
      " 98%|█████████████████████████████████████████▉ | 78/80 [11:53<00:20, 10.20s/it]Written 78/80 articles\n",
      " 99%|██████████████████████████████████████████▍| 79/80 [11:59<00:08,  8.73s/it]Written 79/80 articles\n",
      "100%|███████████████████████████████████████████| 80/80 [12:11<00:00,  9.14s/it]\n"
     ]
    }
   ],
   "source": [
    "!python -W ignore ../sample/contextual_generate.py -model_config_fn {config} -model_ckpt {ckpt}  -metadata_fn {inp}  -out_fn {out}"
   ]
  },
  {
   "cell_type": "markdown",
   "metadata": {},
   "source": [
    "### Write output to the common format"
   ]
  },
  {
   "cell_type": "code",
   "execution_count": 52,
   "metadata": {},
   "outputs": [],
   "source": [
    "# we used one line one article format, and every class in different files\n",
    "import json\n",
    "\n",
    "with open(\"../data/april2019_set_mini_out.jsonl\", \"r\") as f, open(\"../data/output.txt\", \"w+\") as output_f:\n",
    "    generated_texts = [json.loads(js)[\"gens_article\"][0].replace(\"\\n\", \" \")+\"\\n\" for js in f]\n",
    "    output_f.writelines(generated_texts)"
   ]
  },
  {
   "cell_type": "code",
   "execution_count": 53,
   "metadata": {},
   "outputs": [
    {
     "data": {
      "text/plain": [
       "'The jury found four Microsoft servers infected with Malware in January 2014 to have allowed the virus to masquerade as an antivirus app and infiltrate their systems, a year before Australia’s notorious Zero Day was beaten by botnets, according to the companies the same jury heard in the National Crime Agency’s (NCA) insider plea trial. Malware software that hackers were using wasn’t detected until just three days before the jury deliberated. Marcus Hutchins, who was charged with unlawfully using Microsoft Windows to maliciously gain access to Microsoft antivirus servers, had originally pleaded guilty earlier this year to a charge of possessing computer malware. His lawyer, Craig Lend, argued the CAA standard was at odds with his client’s national security. “Microsoft refused to provide a reasonable defense for a reasonable cause and prevented the evidence relating to this matter from gaining full weight,” Lend said in a statement. In actuality, Hutchins didn’t bother to include a link to any antivirus software on his router at all. Hutchins, who has spent the past decade working at Spyro Security, said his means of learning from worms are simply the search for McAfee antivirus software. He praised CrackAware’s McAfee team, particularly after they published results showing that the virus could masquerade as Windows and National Security Agency (NSA) hardware software. It was of course not that Hutchins’ trial lacked a little extra drama. Right from the beginning, Judge Deeen found him guilty of conducting “unlawful activity in relation to the use and command of a computer.” Because he so self-medicated in such an effort, the court may have clapped back. But as I’ve said before, unlike a real trial, you don’t get a jury to decide for a seemingly fair person. \\n'"
      ]
     },
     "execution_count": 53,
     "metadata": {},
     "output_type": "execute_result"
    }
   ],
   "source": [
    "generated_texts[0]"
   ]
  }
 ],
 "metadata": {
  "kernelspec": {
   "display_name": "Python [conda env:deep_learning]",
   "language": "python",
   "name": "conda-env-deep_learning-py"
  },
  "language_info": {
   "codemirror_mode": {
    "name": "ipython",
    "version": 3
   },
   "file_extension": ".py",
   "mimetype": "text/x-python",
   "name": "python",
   "nbconvert_exporter": "python",
   "pygments_lexer": "ipython3",
   "version": "3.7.4"
  }
 },
 "nbformat": 4,
 "nbformat_minor": 4
}
