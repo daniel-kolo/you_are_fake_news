{
 "cells": [
  {
   "cell_type": "code",
   "execution_count": 13,
   "metadata": {
    "ExecuteTime": {
     "end_time": "2019-10-15T18:49:16.374341Z",
     "start_time": "2019-10-15T18:49:16.364295Z"
    }
   },
   "outputs": [],
   "source": [
    "from training_preprocess import prepare_fastText_embedding_matrix as prepare_embedding\n",
    "from training_preprocess import sequence_vectorize\n",
    "from training_preprocess import train_val_test_split as split\n",
    "\n",
    "from text_preprocess import en_lemmatize, filter_stopwords, filter_punctuation"
   ]
  },
  {
   "cell_type": "code",
   "execution_count": 2,
   "metadata": {
    "ExecuteTime": {
     "end_time": "2019-10-15T18:28:47.528356Z",
     "start_time": "2019-10-15T18:28:44.011984Z"
    }
   },
   "outputs": [],
   "source": [
    "with open(\"../data/reliable_news\", \"r\") as reliable_file:\n",
    "    rel = [line for line in reliable_file]\n",
    "with open(\"../data/fake_news\", \"r\") as fake_file:\n",
    "    fake = [line for line in fake_file]\n",
    "    \n",
    "size = 1000\n",
    "all_text = rel[:size]+fake[:size]\n",
    "labels = [0 if i<size else 1 for i in range(2*size)]\n",
    "final = filter_stopwords(filter_punctuation(en_lemmatize(all_text)))"
   ]
  },
  {
   "cell_type": "code",
   "execution_count": 6,
   "metadata": {
    "ExecuteTime": {
     "end_time": "2019-10-15T18:28:47.825649Z",
     "start_time": "2019-10-15T18:28:47.732723Z"
    }
   },
   "outputs": [],
   "source": [
    "X_train, X_val, X_test, y_train, y_test, y_val = split(all_text, labels, 0.2, 0.1)\n",
    "x_train, x_val, x_test, word_index = sequence_vectorize(X_train, X_val, X_test)\n",
    "embedding_matrix = prepare_embedding(word_index, \"../data/cc.en.300.bin.gz\")"
   ]
  }
 ],
 "metadata": {
  "kernelspec": {
   "display_name": "Python [conda env:deep_learning]",
   "language": "python",
   "name": "conda-env-deep_learning-py"
  },
  "language_info": {
   "codemirror_mode": {
    "name": "ipython",
    "version": 3
   },
   "file_extension": ".py",
   "mimetype": "text/x-python",
   "name": "python",
   "nbconvert_exporter": "python",
   "pygments_lexer": "ipython3",
   "version": "3.7.4"
  }
 },
 "nbformat": 4,
 "nbformat_minor": 2
}
