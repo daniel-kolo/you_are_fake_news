{
 "cells": [
  {
   "cell_type": "code",
   "execution_count": 60,
   "metadata": {
    "ExecuteTime": {
     "end_time": "2019-10-15T12:15:21.906472Z",
     "start_time": "2019-10-15T12:15:20.151906Z"
    }
   },
   "outputs": [
    {
     "data": {
      "text/plain": [
       "9223372036854775807"
      ]
     },
     "execution_count": 60,
     "metadata": {},
     "output_type": "execute_result"
    }
   ],
   "source": [
    "import sys\n",
    "import csv\n",
    "\n",
    "csv.field_size_limit(sys.maxsize)"
   ]
  },
  {
   "cell_type": "code",
   "execution_count": 51,
   "metadata": {
    "ExecuteTime": {
     "end_time": "2019-10-14T17:10:05.946462Z",
     "start_time": "2019-10-14T16:49:01.872964Z"
    },
    "collapsed": true
   },
   "outputs": [
    {
     "name": "stdout",
     "output_type": "stream",
     "text": [
      "0. chunk: 16:49:03\n",
      "10. chunk: 16:49:20\n",
      "20. chunk: 16:49:34\n",
      "30. chunk: 16:49:47\n",
      "40. chunk: 16:50:01\n",
      "50. chunk: 16:50:16\n",
      "60. chunk: 16:50:30\n",
      "70. chunk: 16:50:45\n",
      "80. chunk: 16:51:01\n",
      "90. chunk: 16:51:11\n",
      "100. chunk: 16:51:19\n",
      "110. chunk: 16:51:32\n",
      "120. chunk: 16:51:46\n",
      "130. chunk: 16:51:54\n",
      "140. chunk: 16:52:03\n",
      "150. chunk: 16:52:18\n",
      "160. chunk: 16:52:31\n",
      "170. chunk: 16:52:46\n",
      "180. chunk: 16:53:01\n",
      "190. chunk: 16:53:16\n",
      "200. chunk: 16:53:29\n",
      "210. chunk: 16:53:44\n",
      "220. chunk: 16:53:59\n",
      "230. chunk: 16:54:14\n",
      "240. chunk: 16:54:32\n",
      "250. chunk: 16:54:45\n",
      "260. chunk: 16:54:59\n",
      "270. chunk: 16:55:15\n",
      "280. chunk: 16:55:29\n",
      "290. chunk: 16:55:46\n",
      "300. chunk: 16:56:00\n",
      "310. chunk: 16:56:14\n",
      "320. chunk: 16:56:27\n",
      "330. chunk: 16:56:39\n",
      "340. chunk: 16:56:54\n",
      "350. chunk: 16:57:09\n",
      "360. chunk: 16:57:22\n",
      "370. chunk: 16:57:35\n",
      "380. chunk: 16:57:52\n",
      "390. chunk: 16:58:07\n",
      "400. chunk: 16:58:20\n",
      "410. chunk: 16:58:35\n",
      "420. chunk: 16:58:49\n",
      "430. chunk: 16:59:02\n",
      "440. chunk: 16:59:15\n",
      "450. chunk: 16:59:27\n",
      "460. chunk: 16:59:41\n",
      "470. chunk: 16:59:53\n",
      "480. chunk: 17:00:05\n",
      "490. chunk: 17:00:17\n",
      "500. chunk: 17:00:29\n",
      "510. chunk: 17:00:41\n",
      "520. chunk: 17:00:53\n",
      "530. chunk: 17:01:06\n",
      "540. chunk: 17:01:20\n",
      "550. chunk: 17:01:33\n",
      "560. chunk: 17:01:47\n",
      "570. chunk: 17:02:01\n",
      "580. chunk: 17:02:15\n",
      "590. chunk: 17:02:32\n",
      "600. chunk: 17:02:45\n",
      "610. chunk: 17:02:59\n",
      "620. chunk: 17:03:12\n",
      "630. chunk: 17:03:25\n",
      "640. chunk: 17:03:41\n",
      "650. chunk: 17:03:55\n",
      "660. chunk: 17:04:10\n",
      "An error occured!\n",
      "670. chunk: 17:04:23\n",
      "An error occured!\n",
      "An error occured!\n",
      "680. chunk: 17:04:40\n",
      "An error occured!\n",
      "690. chunk: 17:04:57\n",
      "An error occured!\n",
      "An error occured!\n",
      "An error occured!\n",
      "An error occured!\n",
      "An error occured!\n",
      "700. chunk: 17:05:11\n",
      "710. chunk: 17:05:29\n",
      "720. chunk: 17:05:46\n",
      "730. chunk: 17:06:05\n",
      "740. chunk: 17:06:21\n",
      "750. chunk: 17:06:36\n",
      "760. chunk: 17:06:57\n",
      "770. chunk: 17:07:16\n",
      "780. chunk: 17:07:34\n",
      "790. chunk: 17:07:50\n",
      "800. chunk: 17:08:08\n",
      "810. chunk: 17:08:26\n",
      "820. chunk: 17:08:49\n",
      "830. chunk: 17:09:11\n",
      "840. chunk: 17:09:32\n",
      "850. chunk: 17:10:00\n"
     ]
    }
   ],
   "source": [
    "# from datetime import datetime\n",
    "\n",
    "# with open(\"../../data/news_content\", \"a+\") as news_file,\\\n",
    "#         open(\"../../data/news_type\", \"a+\") as type_file:\n",
    "#     for i, chunk in enumerate(pd.read_csv(\"../../data/news_cleaned_2018_02_13.csv.zip\",\\\n",
    "#                              chunksize=10000,\\\n",
    "#                              error_bad_lines=False,\\\n",
    "#                              engine='python')):\n",
    "#         if(i%10==0):\n",
    "#             print(\"{}. chunk: {}\".format(i, datetime.now().strftime(\"%H:%M:%S\")))\n",
    "#         if(i>660):\n",
    "#             data = chunk.loc[chunk['type'].isin([\"fake\", \"reliable\"])][[\"type\", \"content\"]]\n",
    "#             try:\n",
    "#                 news_file.writelines([content.replace(\"\\n\", \" \")+\"\\n\" for content in data[\"content\"]])        \n",
    "#                 type_file.writelines([type_+\"\\n\" for type_ in data[\"type\"]])\n",
    "#             except:\n",
    "#                 print(\"An error occured!\")\n",
    "#                 continue"
   ]
  },
  {
   "cell_type": "code",
   "execution_count": null,
   "metadata": {},
   "outputs": [],
   "source": [
    "# fake_cnt = 0\n",
    "# reliable_cnt = 0\n",
    "\n",
    "# with open(\"../../data/news_content\", \"r\") as content_file,\\\n",
    "# open(\"../../data/news_type\", \"r\") as type_file,\\\n",
    "# open(\"../../data/fake_news\", \"a+\") as fake_file,\\\n",
    "# open(\"../../data/reliable_news\", \"a+\") as reliable_file:\n",
    "#     for content, type_ in zip(content_file, type_file):\n",
    "#         if(fake_cnt<100000 and type_.strip()==\"fake\"):\n",
    "#             fake_cnt+=1\n",
    "#             fake_file.write(content)\n",
    "#         if(reliable_cnt<100000 and type_.strip()==\"reliable\"):\n",
    "#             reliable_cnt+=1\n",
    "#             reliable_file.write(content)\n",
    "#         if(reliable_cnt>=100000 and fake_cnt>=100000):\n",
    "#             break"
   ]
  }
 ],
 "metadata": {
  "kernelspec": {
   "display_name": "Python [conda env:deep_learning]",
   "language": "python",
   "name": "conda-env-deep_learning-py"
  },
  "language_info": {
   "codemirror_mode": {
    "name": "ipython",
    "version": 3
   },
   "file_extension": ".py",
   "mimetype": "text/x-python",
   "name": "python",
   "nbconvert_exporter": "python",
   "pygments_lexer": "ipython3",
   "version": "3.7.4"
  }
 },
 "nbformat": 4,
 "nbformat_minor": 2
}
