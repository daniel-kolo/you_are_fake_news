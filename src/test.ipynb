{
 "cells": [
  {
   "cell_type": "markdown",
   "metadata": {},
   "source": [
    "### Text preprocessing\n",
    "\n",
    "* stop-words\n",
    "* additional stop-words\n",
    "* lemmatisation? (with word2vec?)\n",
    "* lowercase? punctuation? --> punctuation tokens? ( <\\dash>, <\\fullstop>, <\\exclamation> etc.)\n",
    "* tokenization \n",
    "* NER? --> special token? (Bálint - )\n",
    "* misspelling? --> special token? \n",
    "* split corpus\n",
    "* OOV words handling?"
   ]
  }
 ],
 "metadata": {
  "kernelspec": {
   "display_name": "Python [conda env:deep_learning]",
   "language": "python",
   "name": "conda-env-deep_learning-py"
  },
  "language_info": {
   "codemirror_mode": {
    "name": "ipython",
    "version": 3
   },
   "file_extension": ".py",
   "mimetype": "text/x-python",
   "name": "python",
   "nbconvert_exporter": "python",
   "pygments_lexer": "ipython3",
   "version": "3.7.4"
  }
 },
 "nbformat": 4,
 "nbformat_minor": 2
}
