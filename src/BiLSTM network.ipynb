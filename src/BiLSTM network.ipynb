{
 "cells": [
  {
   "cell_type": "code",
   "execution_count": 1,
   "metadata": {
    "ExecuteTime": {
     "end_time": "2019-11-05T17:19:49.981159Z",
     "start_time": "2019-11-05T17:19:47.311093Z"
    }
   },
   "outputs": [],
   "source": [
    "with open(\"../data/reliable_news_prep\", \"r\") as reliable_file:\n",
    "    rel = [line.strip() for line in reliable_file]\n",
    "with open(\"../data/fake_news_prep\", \"r\") as fake_file:\n",
    "    fake = [line.strip() for line in fake_file]"
   ]
  },
  {
   "cell_type": "code",
   "execution_count": 2,
   "metadata": {
    "ExecuteTime": {
     "end_time": "2019-11-05T17:19:58.135799Z",
     "start_time": "2019-11-05T17:19:58.131960Z"
    }
   },
   "outputs": [],
   "source": [
    "length=50000"
   ]
  },
  {
   "cell_type": "code",
   "execution_count": 4,
   "metadata": {
    "ExecuteTime": {
     "end_time": "2019-11-05T17:20:10.582654Z",
     "start_time": "2019-11-05T17:20:10.565229Z"
    }
   },
   "outputs": [],
   "source": [
    "text = rel[:length]+fake[:length]"
   ]
  },
  {
   "cell_type": "code",
   "execution_count": 5,
   "metadata": {
    "ExecuteTime": {
     "end_time": "2019-11-05T17:20:14.621473Z",
     "start_time": "2019-11-05T17:20:14.605195Z"
    }
   },
   "outputs": [],
   "source": [
    "labels = [0 if i<length else 1 for i in range(2*length)] # reliable - 0; fake - 1"
   ]
  },
  {
   "cell_type": "code",
   "execution_count": 7,
   "metadata": {
    "ExecuteTime": {
     "end_time": "2019-11-05T17:20:18.620348Z",
     "start_time": "2019-11-05T17:20:18.616492Z"
    }
   },
   "outputs": [],
   "source": [
    "from training_preprocess import prepare_fastText_embedding_matrix as prepare_embedding\n",
    "from training_preprocess import sequence_vectorize\n",
    "from training_preprocess import train_val_test_split as split"
   ]
  },
  {
   "cell_type": "code",
   "execution_count": 8,
   "metadata": {
    "ExecuteTime": {
     "end_time": "2019-11-05T17:20:20.392530Z",
     "start_time": "2019-11-05T17:20:20.212050Z"
    }
   },
   "outputs": [],
   "source": [
    "X_train, X_val, X_test, Y_train, Y_test, Y_val = split(text, labels, 0.2, 0.1)"
   ]
  },
  {
   "cell_type": "code",
   "execution_count": 9,
   "metadata": {
    "ExecuteTime": {
     "end_time": "2019-11-05T17:21:29.699053Z",
     "start_time": "2019-11-05T17:20:22.795007Z"
    }
   },
   "outputs": [],
   "source": [
    "x_train, x_val, x_test, word_index = sequence_vectorize(X_train, X_val, X_test, sequence_length=1100)"
   ]
  },
  {
   "cell_type": "code",
   "execution_count": 10,
   "metadata": {
    "ExecuteTime": {
     "end_time": "2019-11-05T17:29:21.010612Z",
     "start_time": "2019-11-05T17:21:29.702424Z"
    }
   },
   "outputs": [],
   "source": [
    "embedding_matrix = prepare_embedding(word_index, \"../data/cc.en.300.bin.gz\")"
   ]
  },
  {
   "cell_type": "code",
   "execution_count": 11,
   "metadata": {
    "ExecuteTime": {
     "end_time": "2019-11-05T17:29:22.046087Z",
     "start_time": "2019-11-05T17:29:21.048979Z"
    }
   },
   "outputs": [
    {
     "name": "stderr",
     "output_type": "stream",
     "text": [
      "Using TensorFlow backend.\n"
     ]
    }
   ],
   "source": [
    "from keras import layers, models, optimizers, regularizers"
   ]
  },
  {
   "cell_type": "code",
   "execution_count": 26,
   "metadata": {
    "ExecuteTime": {
     "end_time": "2019-11-06T09:26:50.326268Z",
     "start_time": "2019-11-06T09:26:50.320020Z"
    }
   },
   "outputs": [
    {
     "data": {
      "text/plain": [
       "array([[0., 1.]])"
      ]
     },
     "execution_count": 26,
     "metadata": {},
     "output_type": "execute_result"
    }
   ],
   "source": [
    "label_to_vector([1])"
   ]
  },
  {
   "cell_type": "code",
   "execution_count": 12,
   "metadata": {
    "ExecuteTime": {
     "end_time": "2019-11-05T17:29:22.054619Z",
     "start_time": "2019-11-05T17:29:22.048775Z"
    }
   },
   "outputs": [],
   "source": [
    "import numpy as np\n",
    "\n",
    "def label_to_vector(labels):\n",
    "    array = np.zeros([len(labels), 2])\n",
    "    for i, label in enumerate(labels):\n",
    "        array[i, label] = 1\n",
    "    return array"
   ]
  },
  {
   "cell_type": "code",
   "execution_count": 13,
   "metadata": {
    "ExecuteTime": {
     "end_time": "2019-11-05T17:29:22.150949Z",
     "start_time": "2019-11-05T17:29:22.056738Z"
    }
   },
   "outputs": [],
   "source": [
    "def bidirectional_LSTM(embedding_dim, dropout_rate, input_shape, num_classes, is_embedding_trainable, embedding_matrix):\n",
    "    \n",
    "    # Add an Input Layer\n",
    "    input_layer = layers.Input((input_shape, ))\n",
    "\n",
    "    # Add the word embedding Layer\n",
    "    embedding_layer = layers.Embedding(input_dim=embedding_matrix.shape[0],\n",
    "                                       output_dim=embedding_dim,\n",
    "                                       weights=[embedding_matrix],\n",
    "                                       trainable=is_embedding_trainable)(input_layer)\n",
    "    embedding_layer = layers.SpatialDropout1D(0.6)(embedding_layer)\n",
    "    \n",
    "    # Add the LSTM Layer\n",
    "    lstm_layer = layers.Bidirectional(layers.LSTM(20))(embedding_layer)\n",
    "\n",
    "    # Add the output Layers\n",
    "    output_layer1 = layers.Dense(70, activation=\"relu\")(lstm_layer)\n",
    "    output_layer2 = layers.Dropout(dropout_rate)(output_layer1)\n",
    "    output_layer3 = layers.Dense(num_classes, activation=\"softmax\")(output_layer2)\n",
    "\n",
    "    # Compile the model\n",
    "    model = models.Model(inputs=input_layer, outputs=output_layer3)\n",
    "    \n",
    "    return model"
   ]
  },
  {
   "cell_type": "code",
   "execution_count": 14,
   "metadata": {
    "ExecuteTime": {
     "end_time": "2019-11-05T17:29:22.297311Z",
     "start_time": "2019-11-05T17:29:22.153150Z"
    }
   },
   "outputs": [],
   "source": [
    "y_train = label_to_vector(Y_train)"
   ]
  },
  {
   "cell_type": "code",
   "execution_count": 15,
   "metadata": {
    "ExecuteTime": {
     "end_time": "2019-11-05T17:29:22.380631Z",
     "start_time": "2019-11-05T17:29:22.299559Z"
    }
   },
   "outputs": [],
   "source": [
    "y_val = label_to_vector(Y_val)"
   ]
  },
  {
   "cell_type": "code",
   "execution_count": 16,
   "metadata": {
    "ExecuteTime": {
     "end_time": "2019-11-05T23:40:09.826284Z",
     "start_time": "2019-11-05T17:29:22.383843Z"
    }
   },
   "outputs": [
    {
     "name": "stdout",
     "output_type": "stream",
     "text": [
      "WARNING:tensorflow:From /home/miniconda3/envs/deep_learning/lib/python3.7/site-packages/tensorflow/python/framework/op_def_library.py:263: colocate_with (from tensorflow.python.framework.ops) is deprecated and will be removed in a future version.\n",
      "Instructions for updating:\n",
      "Colocations handled automatically by placer.\n",
      "WARNING:tensorflow:From /home/miniconda3/envs/deep_learning/lib/python3.7/site-packages/keras/backend/tensorflow_backend.py:3445: calling dropout (from tensorflow.python.ops.nn_ops) with keep_prob is deprecated and will be removed in a future version.\n",
      "Instructions for updating:\n",
      "Please use `rate` instead of `keep_prob`. Rate should be set to `rate = 1 - keep_prob`.\n",
      "WARNING:tensorflow:From /home/miniconda3/envs/deep_learning/lib/python3.7/site-packages/tensorflow/python/ops/math_ops.py:3066: to_int32 (from tensorflow.python.ops.math_ops) is deprecated and will be removed in a future version.\n",
      "Instructions for updating:\n",
      "Use tf.cast instead.\n",
      "Train on 70000 samples, validate on 20000 samples\n",
      "Epoch 1/10\n",
      " - 3184s - loss: 0.1924 - acc: 0.9271 - val_loss: 0.0998 - val_acc: 0.9681\n",
      "Epoch 2/10\n",
      " - 3173s - loss: 0.0917 - acc: 0.9690 - val_loss: 0.0872 - val_acc: 0.9718\n",
      "Epoch 3/10\n",
      " - 3170s - loss: 0.0684 - acc: 0.9768 - val_loss: 0.0851 - val_acc: 0.9735\n",
      "Epoch 4/10\n",
      " - 3165s - loss: 0.0459 - acc: 0.9850 - val_loss: 0.0835 - val_acc: 0.9729\n",
      "Epoch 5/10\n",
      " - 3171s - loss: 0.0367 - acc: 0.9878 - val_loss: 0.0999 - val_acc: 0.9744\n",
      "Epoch 6/10\n",
      " - 3184s - loss: 0.0262 - acc: 0.9917 - val_loss: 0.0998 - val_acc: 0.9726\n",
      "Epoch 7/10\n",
      " - 3191s - loss: 0.0259 - acc: 0.9916 - val_loss: 0.1146 - val_acc: 0.9721\n"
     ]
    }
   ],
   "source": [
    "import keras\n",
    "\n",
    "model = bidirectional_LSTM(300, 0.2, 1100, 2, True, embedding_matrix)\n",
    "model.compile(optimizer='Adam', loss=\"binary_crossentropy\", metrics=['accuracy'])\n",
    "\n",
    "callbacks = [keras.callbacks.EarlyStopping(monitor='val_loss', patience=3)]\n",
    "\n",
    "model.fit(x_train,\n",
    "          y_train,\n",
    "          epochs=10,\n",
    "          callbacks=callbacks,\n",
    "          validation_data=(x_val, y_val),\n",
    "          verbose=2,  # Logs once per epoch.\n",
    "          batch_size=128)\n",
    "\n",
    "model.save_weights('../data/sequence_model_with_pre_trained_embedding.h5')"
   ]
  },
  {
   "cell_type": "code",
   "execution_count": 17,
   "metadata": {
    "ExecuteTime": {
     "end_time": "2019-11-05T23:40:09.836317Z",
     "start_time": "2019-11-05T23:40:09.829265Z"
    }
   },
   "outputs": [],
   "source": [
    "y_test = label_to_vector(Y_test)"
   ]
  },
  {
   "cell_type": "code",
   "execution_count": 19,
   "metadata": {
    "ExecuteTime": {
     "end_time": "2019-11-06T09:11:43.400862Z",
     "start_time": "2019-11-06T09:04:10.742260Z"
    }
   },
   "outputs": [
    {
     "name": "stdout",
     "output_type": "stream",
     "text": [
      "10000/10000 [==============================] - 453s 45ms/step\n"
     ]
    },
    {
     "data": {
      "text/plain": [
       "[0.10529134182436392, 0.9726]"
      ]
     },
     "execution_count": 19,
     "metadata": {},
     "output_type": "execute_result"
    }
   ],
   "source": [
    "model.evaluate(x_test, y_test)"
   ]
  },
  {
   "cell_type": "code",
   "execution_count": 20,
   "metadata": {
    "ExecuteTime": {
     "end_time": "2019-11-06T09:21:09.665591Z",
     "start_time": "2019-11-06T09:21:09.572272Z"
    }
   },
   "outputs": [],
   "source": [
    "text = \"Last Sunday, Rudy Giuliani, former mayor of New York City and current lawyer of President Donald Trump, insisted that there was “nothing wrong” with President Donald Trump’s 2016 campaign team accepting assistance from the Russians. While he called the action possibly ill-advised, it wasn’t illegal. These statements were made in relation to the release of the report into the investigation led by special counsel Robert Mueller into the alleged Russian interference in the 2016 presidential elections. These were also made after the Democrats in the House of Representatives have pledged more in-depth investigations into possible obstruction of justice and campaign misconduct committed by President Trump and members of his inner circle. To quote Giuliani, “There’s nothing wrong with taking information from Russians.” His statement obviously referred to the now-infamous June 2016 Trump Tower meeting between Paul Manafort, Donald Trump, Jr. and Jared Kushner with individuals connected with the Russian government. At the time, the Trump campaign team was seeking damaging information about Hillary Clinton. Since the release of the Mueller report, there has been numerous back-and-for the exchanges between the President’s supporters and critics. Senator Elizabeth Warren, for one thing, has called on the House of Representatives to start impeachment proceedings. Senator Mitt Romney (Republican, Utah) has tweeted that he was “sickened” by the findings, especially the “dishonesty and misdirection by individuals in the highest office of the land including the President”. He has apparently broke with his party although this isn’t the first time – and possibly not the last either – that he has criticized President Trump.But Giuliani said that Senator Romney should “stop the bull”. He added it’s a common practice to accept negative information regarding a political opponent, and that while he would have advised the President not to do it, there was no crime committed. His advice, he said, would have been made “just out of excess caution”.When he was asked about the appropriateness of using information stolen by foreign enemies, Giuliani answered that, “It depends on the stolen material.”President Trump has, of course, been busy tweeting his reactions to the Mueller report and to the reactions from politicians, analysts and media outfits. Among his tweets on Sunday, “Despite No Collusion, No Obstruction, The Radical Left Democrats do not want to go on to Legislate for the good of the people, but only to Investigate and waste time. This is costing our Country greatly, and will cost the Dems big time in 2020!”From his tweets, President Trump continues to assert that he has been completely and fully cleared of misconduct in relation to the Russian interference. He also says that the Democrats’ continued efforts will prove costly to the government and the public. But emphasis must be made that Mueller didn’t explicitly clear the president of obstruction of justice. Instead, he cited guidelines of the Justice Department that stated an incumbent president shouldn’t be indicted. The leaders of the Democratic Party hasn’t been spared. Many of the party’s rising stars including some of its 2020 presidential aspirants have called for impeachment proceedings. Senator Nancy Pelosi (Democratic, California), the House Speaker, isn’t too keen on impeachment but favors a step-by-step approach to Congress’ oversight over the President.Senator Mike Lee (Republican, Utah), a member of the Senate Judiciary Committee, has said, “I think politically speaking it would be a mistake for them to do it.” He added that the most important takeaway from the report was that “there was no collusion” and, thus, the Democrats are making a mistake if they pursue with impeachment proceedings.He further said that, “It’s time to move on” and the American public won’t stand for it since the Mueller investigations didn’t uncover any crimes. Going back to Giuliani, he said that the President’s legal team is considering the release of a detailed written rebuttal to counter the allegations made in the Mueller report. He said that the rebuttal may become necessary regardless of whether the hearings will be done or not and whether other issues will be raised or not in the future. At the moment, he added, “We think the public debate is playing out about as well as it can.”Representative Jerrold Nadler (Democratic, New York), however, didn’t rule out an impeachment. Nadler, the chairman of the House committee in charge of impeachment hearings, has expressed his puzzlement about why Mueller didn’t file charges of criminal conspiracy against the people present and/or involved in the 2016 Trump Tower meeting.  He asserts that the parties “entered into a meeting of the minds…to get stolen material on Hillary” and it constitutes conspiracy. Nadler also said that these offenses are impeachable. The Democrats’ present focus should then be to “go where the evidence leads us.”The Mueller report released to the public has been redacted, and Nadler has subpoenaed the Justice Department for its full and complete version. He has also called Mueller, Attorney General William Bar, and Don McGahn, the former White House counsel, to testify before his committee. The plot just keeps getting thicker!\""
   ]
  },
  {
   "cell_type": "code",
   "execution_count": 21,
   "metadata": {
    "ExecuteTime": {
     "end_time": "2019-11-06T09:21:34.645199Z",
     "start_time": "2019-11-06T09:21:33.619937Z"
    }
   },
   "outputs": [],
   "source": [
    "from text_preprocess import en_lemmatize, filter_stopwords, filter_punctuation, filter_urls"
   ]
  },
  {
   "cell_type": "code",
   "execution_count": 22,
   "metadata": {
    "ExecuteTime": {
     "end_time": "2019-11-06T09:22:25.939679Z",
     "start_time": "2019-11-06T09:22:02.953931Z"
    }
   },
   "outputs": [],
   "source": [
    "text = filter_stopwords(filter_punctuation(en_lemmatize(filter_urls([text]))))"
   ]
  },
  {
   "cell_type": "code",
   "execution_count": 24,
   "metadata": {
    "ExecuteTime": {
     "end_time": "2019-11-06T09:25:04.340213Z",
     "start_time": "2019-11-06T09:24:00.442447Z"
    }
   },
   "outputs": [],
   "source": [
    "_, _, text_vect, _ = sequence_vectorize(X_train, X_val, text, sequence_length=1100)"
   ]
  },
  {
   "cell_type": "code",
   "execution_count": null,
   "metadata": {},
   "outputs": [],
   "source": [
    "[1,0]"
   ]
  },
  {
   "cell_type": "code",
   "execution_count": 25,
   "metadata": {
    "ExecuteTime": {
     "end_time": "2019-11-06T09:25:17.072626Z",
     "start_time": "2019-11-06T09:25:15.393172Z"
    }
   },
   "outputs": [
    {
     "data": {
      "text/plain": [
       "array([[0.9381239, 0.0618761]], dtype=float32)"
      ]
     },
     "execution_count": 25,
     "metadata": {},
     "output_type": "execute_result"
    }
   ],
   "source": [
    "model.predict(text_vect)"
   ]
  },
  {
   "cell_type": "code",
   "execution_count": 28,
   "metadata": {
    "ExecuteTime": {
     "end_time": "2019-11-07T12:11:40.005846Z",
     "start_time": "2019-11-07T12:11:39.994907Z"
    }
   },
   "outputs": [
    {
     "name": "stdout",
     "output_type": "stream",
     "text": [
      "_________________________________________________________________\n",
      "Layer (type)                 Output Shape              Param #   \n",
      "=================================================================\n",
      "input_1 (InputLayer)         (None, 1100)              0         \n",
      "_________________________________________________________________\n",
      "embedding_1 (Embedding)      (None, 1100, 300)         3000300   \n",
      "_________________________________________________________________\n",
      "spatial_dropout1d_1 (Spatial (None, 1100, 300)         0         \n",
      "_________________________________________________________________\n",
      "bidirectional_1 (Bidirection (None, 40)                51360     \n",
      "_________________________________________________________________\n",
      "dense_1 (Dense)              (None, 70)                2870      \n",
      "_________________________________________________________________\n",
      "dropout_1 (Dropout)          (None, 70)                0         \n",
      "_________________________________________________________________\n",
      "dense_2 (Dense)              (None, 2)                 142       \n",
      "=================================================================\n",
      "Total params: 3,054,672\n",
      "Trainable params: 3,054,672\n",
      "Non-trainable params: 0\n",
      "_________________________________________________________________\n"
     ]
    }
   ],
   "source": [
    "model.summary()"
   ]
  }
 ],
 "metadata": {
  "kernelspec": {
   "display_name": "Python 3",
   "language": "python",
   "name": "python3"
  },
  "language_info": {
   "codemirror_mode": {
    "name": "ipython",
    "version": 3
   },
   "file_extension": ".py",
   "mimetype": "text/x-python",
   "name": "python",
   "nbconvert_exporter": "python",
   "pygments_lexer": "ipython3",
   "version": "3.7.4"
  }
 },
 "nbformat": 4,
 "nbformat_minor": 2
}
