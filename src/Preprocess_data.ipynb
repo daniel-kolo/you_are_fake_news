{
 "cells": [
  {
   "cell_type": "code",
   "execution_count": 2,
   "metadata": {
    "ExecuteTime": {
     "end_time": "2019-11-01T10:14:35.739697Z",
     "start_time": "2019-11-01T10:14:35.727039Z"
    }
   },
   "outputs": [],
   "source": [
    "from training_preprocess import prepare_fastText_embedding_matrix as prepare_embedding\n",
    "from training_preprocess import sequence_vectorize\n",
    "from training_preprocess import train_val_test_split as split\n",
    "\n",
    "from text_preprocess import en_lemmatize, filter_stopwords, filter_punctuation"
   ]
  },
  {
   "cell_type": "code",
   "execution_count": 3,
   "metadata": {
    "ExecuteTime": {
     "end_time": "2019-11-01T10:20:30.990711Z",
     "start_time": "2019-11-01T10:20:27.436403Z"
    }
   },
   "outputs": [],
   "source": [
    "# load the texts\n",
    "with open(\"../data/reliable_news\", \"r\") as reliable_file:\n",
    "    rel = [line for line in reliable_file]\n",
    "with open(\"../data/fake_news\", \"r\") as fake_file:\n",
    "    fake = [line for line in fake_file]"
   ]
  },
  {
   "cell_type": "code",
   "execution_count": 2,
   "metadata": {
    "ExecuteTime": {
     "end_time": "2019-10-15T19:54:41.260234Z",
     "start_time": "2019-10-15T19:52:42.144343Z"
    },
    "code_folding": []
   },
   "outputs": [],
   "source": [
    "# the preprocessing pipeline: \n",
    "# lemmatize the text\n",
    "# filter all punctuation, and make it lowercase, also delete any double space\n",
    "# filter stopwords --> now it only uses the nltk.stopword list, but it can be expand later\n",
    "text_fake = filter_stopwords(filter_punctuation(en_lemmatize(fake)))\n",
    "text_rel = filter_stopwords(filter_punctuation(en_lemmatize(rel)))"
   ]
  },
  {
   "cell_type": "code",
   "execution_count": 17,
   "metadata": {
    "ExecuteTime": {
     "end_time": "2019-11-01T12:34:11.356582Z",
     "start_time": "2019-11-01T12:13:39.988909Z"
    }
   },
   "outputs": [],
   "source": [
    "with open(\"../data/reliable_news_prep\", \"w+\") as f:\n",
    "    for line in text_rel:\n",
    "        f.write(line+\"\\n\")\n",
    "        \n",
    "with open(\"../data/fake_news_prep\", \"w+\") as f:\n",
    "    for line in text_fake:\n",
    "        f.write(line+\"\\n\")\n",
    "        "
   ]
  }
 ],
 "metadata": {
  "kernelspec": {
   "display_name": "Python [conda env:deep_learning]",
   "language": "python",
   "name": "conda-env-deep_learning-py"
  },
  "language_info": {
   "codemirror_mode": {
    "name": "ipython",
    "version": 3
   },
   "file_extension": ".py",
   "mimetype": "text/x-python",
   "name": "python",
   "nbconvert_exporter": "python",
   "pygments_lexer": "ipython3",
   "version": "3.7.4"
  }
 },
 "nbformat": 4,
 "nbformat_minor": 2
}
