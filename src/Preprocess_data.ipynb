{
 "cells": [
  {
   "cell_type": "code",
   "execution_count": 3,
   "metadata": {
    "ExecuteTime": {
     "end_time": "2019-11-05T14:30:19.701727Z",
     "start_time": "2019-11-05T14:30:19.697352Z"
    }
   },
   "outputs": [],
   "source": [
    "from text_preprocess import en_lemmatize, filter_stopwords, filter_punctuation, filter_urls"
   ]
  },
  {
   "cell_type": "code",
   "execution_count": 2,
   "metadata": {
    "ExecuteTime": {
     "end_time": "2019-11-05T14:30:19.694560Z",
     "start_time": "2019-11-05T14:30:16.135160Z"
    }
   },
   "outputs": [],
   "source": [
    "# load the texts\n",
    "with open(\"../data/reliable_news\", \"r\") as reliable_file:\n",
    "    rel = [line for line in reliable_file]\n",
    "with open(\"../data/fake_news\", \"r\") as fake_file:\n",
    "    fake = [line for line in fake_file]"
   ]
  },
  {
   "cell_type": "code",
   "execution_count": 4,
   "metadata": {
    "ExecuteTime": {
     "end_time": "2019-11-05T16:00:18.225184Z",
     "start_time": "2019-11-05T14:31:27.080383Z"
    },
    "code_folding": []
   },
   "outputs": [],
   "source": [
    "# the preprocessing pipeline: \n",
    "# lemmatize the text\n",
    "# filter all punctuation, and make it lowercase, also delete any double space\n",
    "# filter stopwords --> now it only uses the nltk.stopword list, but it can be expand later\n",
    "text_fake = filter_stopwords(filter_punctuation(en_lemmatize(filter_urls(fake))))\n",
    "text_rel = filter_stopwords(filter_punctuation(en_lemmatize(filter_urls(rel))))"
   ]
  },
  {
   "cell_type": "code",
   "execution_count": 9,
   "metadata": {
    "ExecuteTime": {
     "end_time": "2019-11-05T17:19:34.607372Z",
     "start_time": "2019-11-05T17:19:30.245610Z"
    }
   },
   "outputs": [],
   "source": [
    "with open(\"../data/reliable_news_prep\", \"w+\") as f:\n",
    "    for line in text_rel:\n",
    "        f.write(line+\"\\n\")\n",
    "        \n",
    "with open(\"../data/fake_news_prep\", \"w+\") as f:\n",
    "    for line in text_fake:\n",
    "        f.write(line+\"\\n\")\n",
    "        "
   ]
  }
 ],
 "metadata": {
  "kernelspec": {
   "display_name": "Python [conda env:deep_learning]",
   "language": "python",
   "name": "conda-env-deep_learning-py"
  },
  "language_info": {
   "codemirror_mode": {
    "name": "ipython",
    "version": 3
   },
   "file_extension": ".py",
   "mimetype": "text/x-python",
   "name": "python",
   "nbconvert_exporter": "python",
   "pygments_lexer": "ipython3",
   "version": "3.7.4"
  }
 },
 "nbformat": 4,
 "nbformat_minor": 2
}
