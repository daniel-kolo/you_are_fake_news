{
 "cells": [
  {
   "cell_type": "code",
   "execution_count": 3,
   "metadata": {
    "ExecuteTime": {
     "end_time": "2019-10-15T19:54:41.268330Z",
     "start_time": "2019-10-15T19:54:41.263667Z"
    }
   },
   "outputs": [],
   "source": [
    "from training_preprocess import prepare_fastText_embedding_matrix as prepare_embedding\n",
    "from training_preprocess import sequence_vectorize\n",
    "from training_preprocess import train_val_test_split as split\n",
    "\n",
    "from text_preprocess import en_lemmatize, filter_stopwords, filter_punctuation"
   ]
  },
  {
   "cell_type": "code",
   "execution_count": 2,
   "metadata": {
    "ExecuteTime": {
     "end_time": "2019-10-15T19:54:41.260234Z",
     "start_time": "2019-10-15T19:52:42.144343Z"
    },
    "code_folding": []
   },
   "outputs": [],
   "source": [
    "# load the texts\n",
    "with open(\"../data/reliable_news\", \"r\") as reliable_file:\n",
    "    rel = [line for line in reliable_file]\n",
    "with open(\"../data/fake_news\", \"r\") as fake_file:\n",
    "    fake = [line for line in fake_file]\n",
    "\n",
    "# to check if the preprocessing pipeline is working, we chose a small chunk of the data\n",
    "size = 1000\n",
    "all_text = rel[:size]+fake[:size]\n",
    "# generate the labels for the data: this is an obvious task, because we store the fake and the reliable news separately\n",
    "labels = [0 if i<size else 1 for i in range(2*size)]\n",
    "\n",
    "# the preprocessing pipeline: \n",
    "# lemmatize the text\n",
    "# filter all punctuation, and make it lowercase, also delete any double space\n",
    "# filter stopwords --> now it only uses the nltk.stopword list, but it can be expand later\n",
    "text = filter_stopwords(filter_punctuation(en_lemmatize(all_text)))"
   ]
  },
  {
   "cell_type": "code",
   "execution_count": 5,
   "metadata": {
    "ExecuteTime": {
     "end_time": "2019-10-15T20:06:20.804429Z",
     "start_time": "2019-10-15T20:06:17.162326Z"
    }
   },
   "outputs": [],
   "source": [
    "# split the data, ratio: train - 0.7, validation - 0.2, test - 0.1\n",
    "X_train, X_val, X_test, y_train, y_test, y_val = split(text, labels, 0.2, 0.1)\n",
    "\n",
    "# we make sequences from texts: a texts is a sequence of the word indexes, that it contains\n",
    "# we chose the sequence length 1100 based on the data visualization\n",
    "x_train, x_val, x_test, word_index = sequence_vectorize(X_train, X_val, X_test, sequence_length=1100)"
   ]
  },
  {
   "cell_type": "code",
   "execution_count": null,
   "metadata": {},
   "outputs": [],
   "source": [
    "# make an embedding matrix: this will be useful to pretrain the embedding layer of the classifier\n",
    "embedding_matrix = prepare_embedding(word_index, \"../data/cc.en.300.bin.gz\")"
   ]
  }
 ],
 "metadata": {
  "kernelspec": {
   "display_name": "Python [conda env:deep_learning]",
   "language": "python",
   "name": "conda-env-deep_learning-py"
  },
  "language_info": {
   "codemirror_mode": {
    "name": "ipython",
    "version": 3
   },
   "file_extension": ".py",
   "mimetype": "text/x-python",
   "name": "python",
   "nbconvert_exporter": "python",
   "pygments_lexer": "ipython3",
   "version": "3.7.4"
  }
 },
 "nbformat": 4,
 "nbformat_minor": 2
}
